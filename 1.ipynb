{
 "cells": [
  {
   "cell_type": "code",
   "execution_count": 62,
   "metadata": {},
   "outputs": [],
   "source": [
    "import psycopg2\n",
    "conn = psycopg2.connect(host=\"localhost\",dbname=\"postgres\",user=\"postgres\",password=\"inkar10\",port=5432)\n",
    "cur = conn.cursor()\n",
    "cur.execute(\"\"\"CREATE TABLE PhoneBook(\n",
    "            ID SERIAL PRIMARY KEY,\n",
    "            FirstName VARCHAR(50),\n",
    "            LastName VARCHAR(50),\n",
    "            PhoneNumber VARCHAR(20)\n",
    "            ); \"\"\")\n",
    "conn.commit()\n",
    "cur.close()\n",
    "conn.close()"
   ]
  },
  {
   "cell_type": "code",
   "execution_count": 63,
   "metadata": {},
   "outputs": [],
   "source": [
    "import psycopg2\n",
    "conn = psycopg2.connect(host=\"localhost\",dbname=\"postgres\",user=\"postgres\",password=\"inkar10\",port=5432)\n",
    "cur = conn.cursor()\n",
    "with open(\"phonebook.csv\",\"r\",encoding=\"ISO-8859-1\") as f:\n",
    "    next(f)\n",
    "    cur.copy_expert(\"COPY phonebook(FirstName, LastName, PhoneNumber) FROM STDIN WITH CSV\", f)\n",
    "conn.commit()\n",
    "cur.close()\n",
    "conn.close()"
   ]
  },
  {
   "cell_type": "code",
   "execution_count": 77,
   "metadata": {},
   "outputs": [],
   "source": [
    "import psycopg2\n",
    "conn = psycopg2.connect(host=\"localhost\", dbname=\"postgres\", user=\"postgres\", password=\"inkar10\", port=5432)\n",
    "cur = conn.cursor()\n",
    "first_name = 'Inkar' #input(\"Name: \")\n",
    "last_name = 'Askarbekova' #input(\"Last Name: \")\n",
    "phone_number = '775000123654' #input(\"Phone Number: \")\n",
    "cur.execute(\"\"\"INSERT INTO PhoneBook(FirstName, LastName, PhoneNumber) VALUES (%s, %s, %s);\"\"\", (first_name, last_name, phone_number))\n",
    "conn.commit()\n",
    "cur.close()\n",
    "conn.close()"
   ]
  },
  {
   "cell_type": "code",
   "execution_count": 65,
   "metadata": {},
   "outputs": [],
   "source": [
    "import psycopg2\n",
    "conn = psycopg2.connect(host=\"localhost\",dbname=\"postgres\",user=\"postgres\",password=\"inkar10\",port=5432)\n",
    "cur = conn.cursor()\n",
    "cur.execute(\"\"\"UPDATE PhoneBook SET FirstName = 'First' WHERE id = 12\"\"\")\n",
    "conn.commit()\n",
    "cur.close()\n",
    "conn.close()"
   ]
  },
  {
   "cell_type": "code",
   "execution_count": 66,
   "metadata": {},
   "outputs": [
    {
     "name": "stdout",
     "output_type": "stream",
     "text": [
      "(7, 'Sandra', 'Snyder', '779204487871')\n",
      "(8, 'Christopher', 'Stevens', '775730792182')\n",
      "(14, 'Brian', 'Stone', '773168847975')\n"
     ]
    }
   ],
   "source": [
    "import psycopg2\n",
    "conn = psycopg2.connect(host=\"localhost\",dbname=\"postgres\",user=\"postgres\",password=\"inkar10\",port=5432)\n",
    "cur = conn.cursor()\n",
    "cur.execute(\"\"\"SELECT * FROM PhoneBook WHERE LastName LIKE 'S%';\"\"\")\n",
    "results = cur.fetchall()\n",
    "for row in results:\n",
    "    print(row)\n",
    "conn.commit()\n",
    "cur.close()\n",
    "conn.close()"
   ]
  },
  {
   "cell_type": "code",
   "execution_count": 68,
   "metadata": {},
   "outputs": [
    {
     "name": "stdout",
     "output_type": "stream",
     "text": [
      "(1, 'Cassandra', 'Nunez', '773005940992')\n",
      "(6, 'Daniel', 'Perez', '773495615643')\n",
      "(14, 'Brian', 'Stone', '773168847975')\n"
     ]
    }
   ],
   "source": [
    "import psycopg2\n",
    "conn = psycopg2.connect(host=\"localhost\",dbname=\"postgres\",user=\"postgres\",password=\"inkar10\",port=5432)\n",
    "cur = conn.cursor()\n",
    "cur.execute(\"\"\"SELECT * FROM PhoneBook WHERE PhoneNumber LIKE '773%';\"\"\")\n",
    "results = cur.fetchall()\n",
    "for row in results:\n",
    "    print(row)\n",
    "conn.commit()\n",
    "cur.close()\n",
    "conn.close()"
   ]
  },
  {
   "cell_type": "code",
   "execution_count": 70,
   "metadata": {},
   "outputs": [
    {
     "name": "stdout",
     "output_type": "stream",
     "text": [
      "(5, 'Michelle', 'Cruz', '775544215437')\n",
      "(6, 'Daniel', 'Perez', '773495615643')\n",
      "(7, 'Sandra', 'Snyder', '779204487871')\n",
      "(8, 'Christopher', 'Stevens', '775730792182')\n",
      "(9, 'Laura', 'Little', '779847641506')\n",
      "(10, 'Patrick', 'Porter', '779511474188')\n"
     ]
    }
   ],
   "source": [
    "import psycopg2\n",
    "conn = psycopg2.connect(host=\"localhost\",dbname=\"postgres\",user=\"postgres\",password=\"inkar10\",port=5432)\n",
    "cur = conn.cursor()\n",
    "cur.execute(\"\"\"SELECT * FROM PhoneBook WHERE ID BETWEEN 5 AND 10;\"\"\")\n",
    "results = cur.fetchall()\n",
    "for row in results:\n",
    "    print(row)\n",
    "conn.commit()\n",
    "cur.close()\n",
    "conn.close()"
   ]
  },
  {
   "cell_type": "code",
   "execution_count": 71,
   "metadata": {},
   "outputs": [
    {
     "name": "stdout",
     "output_type": "stream",
     "text": [
      "(16, 'Inkar', 'Askarbekova', '775000123654')\n",
      "(5, 'Michelle', 'Cruz', '775544215437')\n",
      "(13, 'Megan', 'Fletcher', '770738916607')\n",
      "(12, 'First', 'Gonzales', '777519449302')\n",
      "(11, 'Ashley', 'Higgins', '778694209761')\n",
      "(4, 'Ronald', 'Lane', '777014770715')\n",
      "(9, 'Laura', 'Little', '779847641506')\n",
      "(2, 'Julie', 'Lynn', '772659178223')\n",
      "(3, 'Joseph', 'Martin', '771572766394')\n",
      "(1, 'Cassandra', 'Nunez', '773005940992')\n",
      "(6, 'Daniel', 'Perez', '773495615643')\n",
      "(10, 'Patrick', 'Porter', '779511474188')\n",
      "(7, 'Sandra', 'Snyder', '779204487871')\n",
      "(8, 'Christopher', 'Stevens', '775730792182')\n",
      "(14, 'Brian', 'Stone', '773168847975')\n",
      "(15, 'Kelly', 'Waters', '776221023384')\n"
     ]
    }
   ],
   "source": [
    "import psycopg2\n",
    "conn = psycopg2.connect(host=\"localhost\",dbname=\"postgres\",user=\"postgres\",password=\"inkar10\",port=5432)\n",
    "cur = conn.cursor()\n",
    "cur.execute(\"\"\"SELECT * FROM PhoneBook ORDER BY LastName;\"\"\")\n",
    "results = cur.fetchall()\n",
    "for row in results:\n",
    "    print(row)\n",
    "conn.commit()\n",
    "cur.close()\n",
    "conn.close()"
   ]
  },
  {
   "cell_type": "code",
   "execution_count": 76,
   "metadata": {},
   "outputs": [],
   "source": [
    "import psycopg2\n",
    "conn = psycopg2.connect(host=\"localhost\",dbname=\"postgres\",user=\"postgres\",password=\"inkar10\",port=5432)\n",
    "cur = conn.cursor()\n",
    "cur.execute(\"\"\"DELETE FROM PhoneBook WHERE FirstName = 'Inkar';\"\"\")\n",
    "conn.commit()\n",
    "cur.close()\n",
    "conn.close()"
   ]
  }
 ],
 "metadata": {
  "kernelspec": {
   "display_name": "Python 3",
   "language": "python",
   "name": "python3"
  },
  "language_info": {
   "codemirror_mode": {
    "name": "ipython",
    "version": 3
   },
   "file_extension": ".py",
   "mimetype": "text/x-python",
   "name": "python",
   "nbconvert_exporter": "python",
   "pygments_lexer": "ipython3",
   "version": "3.13.1"
  }
 },
 "nbformat": 4,
 "nbformat_minor": 2
}
